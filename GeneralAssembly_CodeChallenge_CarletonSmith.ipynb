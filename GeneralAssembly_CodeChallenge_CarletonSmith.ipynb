{
 "cells": [
  {
   "cell_type": "code",
   "execution_count": 1,
   "metadata": {
    "collapsed": false
   },
   "outputs": [
    {
     "name": "stdout",
     "output_type": "stream",
     "text": [
      "C:\\Users\\Carleton\\Desktop\\GeneralAssembly\\CodeChallenge\n"
     ]
    }
   ],
   "source": [
    "cd C:\\Users\\Carleton\\Desktop\\GeneralAssembly\\CodeChallenge"
   ]
  },
  {
   "cell_type": "markdown",
   "metadata": {},
   "source": [
    "### Section 1: Modeling: Perform standard data science tasks in Python"
   ]
  },
  {
   "cell_type": "markdown",
   "metadata": {},
   "source": [
    "**Import packages**"
   ]
  },
  {
   "cell_type": "code",
   "execution_count": 68,
   "metadata": {
    "collapsed": false
   },
   "outputs": [],
   "source": [
    "# import packages\n",
    "import numpy as np\n",
    "import pandas as pd\n",
    "from sklearn import preprocessing\n",
    "import matplotlib.pyplot as plt\n",
    "%matplotlib inline"
   ]
  },
  {
   "cell_type": "markdown",
   "metadata": {},
   "source": [
    "**Load the data and header. Then attach header to df**"
   ]
  },
  {
   "cell_type": "code",
   "execution_count": 24,
   "metadata": {
    "collapsed": false
   },
   "outputs": [],
   "source": [
    "headerFile = pd.read_table(\"field_names.txt\",delimiter='\\n',index_col=None,header=None) # read header\n",
    "headerList = headerFile.values.flatten() # create list of column headers"
   ]
  },
  {
   "cell_type": "code",
   "execution_count": 53,
   "metadata": {
    "collapsed": false
   },
   "outputs": [
    {
     "data": {
      "text/html": [
       "<div>\n",
       "<table border=\"1\" class=\"dataframe\">\n",
       "  <thead>\n",
       "    <tr style=\"text-align: right;\">\n",
       "      <th></th>\n",
       "      <th>ID</th>\n",
       "      <th>diagnosis</th>\n",
       "      <th>radius_mean</th>\n",
       "      <th>radius_sd_error</th>\n",
       "      <th>radius_worst</th>\n",
       "      <th>texture_mean</th>\n",
       "      <th>texture_sd_error</th>\n",
       "      <th>texture_worst</th>\n",
       "      <th>perimeter_mean</th>\n",
       "      <th>perimeter_sd_error</th>\n",
       "      <th>...</th>\n",
       "      <th>concavity_worst</th>\n",
       "      <th>concave_points_mean</th>\n",
       "      <th>concave_points_sd_error</th>\n",
       "      <th>concave_points_worst</th>\n",
       "      <th>symmetry_mean</th>\n",
       "      <th>symmetry_sd_error</th>\n",
       "      <th>symmetry_worst</th>\n",
       "      <th>fractal_dimension_mean</th>\n",
       "      <th>fractal_dimension_sd_error</th>\n",
       "      <th>fractal_dimension_worst</th>\n",
       "    </tr>\n",
       "  </thead>\n",
       "  <tbody>\n",
       "    <tr>\n",
       "      <th>0</th>\n",
       "      <td>842302</td>\n",
       "      <td>M</td>\n",
       "      <td>17.99</td>\n",
       "      <td>10.38</td>\n",
       "      <td>122.80</td>\n",
       "      <td>1001.0</td>\n",
       "      <td>0.11840</td>\n",
       "      <td>0.27760</td>\n",
       "      <td>0.3001</td>\n",
       "      <td>0.14710</td>\n",
       "      <td>...</td>\n",
       "      <td>25.38</td>\n",
       "      <td>17.33</td>\n",
       "      <td>184.60</td>\n",
       "      <td>2019.0</td>\n",
       "      <td>0.1622</td>\n",
       "      <td>0.6656</td>\n",
       "      <td>0.7119</td>\n",
       "      <td>0.2654</td>\n",
       "      <td>0.4601</td>\n",
       "      <td>0.11890</td>\n",
       "    </tr>\n",
       "    <tr>\n",
       "      <th>1</th>\n",
       "      <td>842517</td>\n",
       "      <td>M</td>\n",
       "      <td>20.57</td>\n",
       "      <td>17.77</td>\n",
       "      <td>132.90</td>\n",
       "      <td>1326.0</td>\n",
       "      <td>0.08474</td>\n",
       "      <td>0.07864</td>\n",
       "      <td>0.0869</td>\n",
       "      <td>0.07017</td>\n",
       "      <td>...</td>\n",
       "      <td>24.99</td>\n",
       "      <td>23.41</td>\n",
       "      <td>158.80</td>\n",
       "      <td>1956.0</td>\n",
       "      <td>0.1238</td>\n",
       "      <td>0.1866</td>\n",
       "      <td>0.2416</td>\n",
       "      <td>0.1860</td>\n",
       "      <td>0.2750</td>\n",
       "      <td>0.08902</td>\n",
       "    </tr>\n",
       "    <tr>\n",
       "      <th>2</th>\n",
       "      <td>84300903</td>\n",
       "      <td>M</td>\n",
       "      <td>19.69</td>\n",
       "      <td>21.25</td>\n",
       "      <td>130.00</td>\n",
       "      <td>1203.0</td>\n",
       "      <td>0.10960</td>\n",
       "      <td>0.15990</td>\n",
       "      <td>0.1974</td>\n",
       "      <td>0.12790</td>\n",
       "      <td>...</td>\n",
       "      <td>23.57</td>\n",
       "      <td>25.53</td>\n",
       "      <td>152.50</td>\n",
       "      <td>1709.0</td>\n",
       "      <td>0.1444</td>\n",
       "      <td>0.4245</td>\n",
       "      <td>0.4504</td>\n",
       "      <td>0.2430</td>\n",
       "      <td>0.3613</td>\n",
       "      <td>0.08758</td>\n",
       "    </tr>\n",
       "    <tr>\n",
       "      <th>3</th>\n",
       "      <td>84348301</td>\n",
       "      <td>M</td>\n",
       "      <td>11.42</td>\n",
       "      <td>20.38</td>\n",
       "      <td>77.58</td>\n",
       "      <td>386.1</td>\n",
       "      <td>0.14250</td>\n",
       "      <td>0.28390</td>\n",
       "      <td>0.2414</td>\n",
       "      <td>0.10520</td>\n",
       "      <td>...</td>\n",
       "      <td>14.91</td>\n",
       "      <td>26.50</td>\n",
       "      <td>98.87</td>\n",
       "      <td>567.7</td>\n",
       "      <td>0.2098</td>\n",
       "      <td>0.8663</td>\n",
       "      <td>0.6869</td>\n",
       "      <td>0.2575</td>\n",
       "      <td>0.6638</td>\n",
       "      <td>0.17300</td>\n",
       "    </tr>\n",
       "    <tr>\n",
       "      <th>4</th>\n",
       "      <td>84358402</td>\n",
       "      <td>M</td>\n",
       "      <td>20.29</td>\n",
       "      <td>14.34</td>\n",
       "      <td>135.10</td>\n",
       "      <td>1297.0</td>\n",
       "      <td>0.10030</td>\n",
       "      <td>0.13280</td>\n",
       "      <td>0.1980</td>\n",
       "      <td>0.10430</td>\n",
       "      <td>...</td>\n",
       "      <td>22.54</td>\n",
       "      <td>16.67</td>\n",
       "      <td>152.20</td>\n",
       "      <td>1575.0</td>\n",
       "      <td>0.1374</td>\n",
       "      <td>0.2050</td>\n",
       "      <td>0.4000</td>\n",
       "      <td>0.1625</td>\n",
       "      <td>0.2364</td>\n",
       "      <td>0.07678</td>\n",
       "    </tr>\n",
       "  </tbody>\n",
       "</table>\n",
       "<p>5 rows × 32 columns</p>\n",
       "</div>"
      ],
      "text/plain": [
       "         ID diagnosis  radius_mean  radius_sd_error  radius_worst  \\\n",
       "0    842302         M        17.99            10.38        122.80   \n",
       "1    842517         M        20.57            17.77        132.90   \n",
       "2  84300903         M        19.69            21.25        130.00   \n",
       "3  84348301         M        11.42            20.38         77.58   \n",
       "4  84358402         M        20.29            14.34        135.10   \n",
       "\n",
       "   texture_mean  texture_sd_error  texture_worst  perimeter_mean  \\\n",
       "0        1001.0           0.11840        0.27760          0.3001   \n",
       "1        1326.0           0.08474        0.07864          0.0869   \n",
       "2        1203.0           0.10960        0.15990          0.1974   \n",
       "3         386.1           0.14250        0.28390          0.2414   \n",
       "4        1297.0           0.10030        0.13280          0.1980   \n",
       "\n",
       "   perimeter_sd_error           ...             concavity_worst  \\\n",
       "0             0.14710           ...                       25.38   \n",
       "1             0.07017           ...                       24.99   \n",
       "2             0.12790           ...                       23.57   \n",
       "3             0.10520           ...                       14.91   \n",
       "4             0.10430           ...                       22.54   \n",
       "\n",
       "   concave_points_mean  concave_points_sd_error  concave_points_worst  \\\n",
       "0                17.33                   184.60                2019.0   \n",
       "1                23.41                   158.80                1956.0   \n",
       "2                25.53                   152.50                1709.0   \n",
       "3                26.50                    98.87                 567.7   \n",
       "4                16.67                   152.20                1575.0   \n",
       "\n",
       "   symmetry_mean  symmetry_sd_error  symmetry_worst  fractal_dimension_mean  \\\n",
       "0         0.1622             0.6656          0.7119                  0.2654   \n",
       "1         0.1238             0.1866          0.2416                  0.1860   \n",
       "2         0.1444             0.4245          0.4504                  0.2430   \n",
       "3         0.2098             0.8663          0.6869                  0.2575   \n",
       "4         0.1374             0.2050          0.4000                  0.1625   \n",
       "\n",
       "   fractal_dimension_sd_error  fractal_dimension_worst  \n",
       "0                      0.4601                  0.11890  \n",
       "1                      0.2750                  0.08902  \n",
       "2                      0.3613                  0.08758  \n",
       "3                      0.6638                  0.17300  \n",
       "4                      0.2364                  0.07678  \n",
       "\n",
       "[5 rows x 32 columns]"
      ]
     },
     "execution_count": 53,
     "metadata": {},
     "output_type": "execute_result"
    }
   ],
   "source": [
    "data = pd.read_csv(\"breast-cancer.csv\", names=headerList) # read data and attach header\n",
    "data.head()"
   ]
  },
  {
   "cell_type": "code",
   "execution_count": 29,
   "metadata": {
    "collapsed": false
   },
   "outputs": [
    {
     "data": {
      "text/html": [
       "<div>\n",
       "<table border=\"1\" class=\"dataframe\">\n",
       "  <thead>\n",
       "    <tr style=\"text-align: right;\">\n",
       "      <th></th>\n",
       "      <th>ID</th>\n",
       "      <th>diagnosis</th>\n",
       "      <th>radius_mean</th>\n",
       "      <th>radius_sd_error</th>\n",
       "      <th>radius_worst</th>\n",
       "      <th>texture_mean</th>\n",
       "      <th>texture_sd_error</th>\n",
       "      <th>texture_worst</th>\n",
       "      <th>perimeter_mean</th>\n",
       "      <th>perimeter_sd_error</th>\n",
       "      <th>...</th>\n",
       "      <th>concavity_worst</th>\n",
       "      <th>concave_points_mean</th>\n",
       "      <th>concave_points_sd_error</th>\n",
       "      <th>concave_points_worst</th>\n",
       "      <th>symmetry_mean</th>\n",
       "      <th>symmetry_sd_error</th>\n",
       "      <th>symmetry_worst</th>\n",
       "      <th>fractal_dimension_mean</th>\n",
       "      <th>fractal_dimension_sd_error</th>\n",
       "      <th>fractal_dimension_worst</th>\n",
       "    </tr>\n",
       "  </thead>\n",
       "  <tbody>\n",
       "    <tr>\n",
       "      <th>count</th>\n",
       "      <td>5.690000e+02</td>\n",
       "      <td>569</td>\n",
       "      <td>569.000000</td>\n",
       "      <td>569.000000</td>\n",
       "      <td>569.000000</td>\n",
       "      <td>569.000000</td>\n",
       "      <td>569.000000</td>\n",
       "      <td>569.000000</td>\n",
       "      <td>569.000000</td>\n",
       "      <td>569.000000</td>\n",
       "      <td>...</td>\n",
       "      <td>569.000000</td>\n",
       "      <td>569.000000</td>\n",
       "      <td>569.000000</td>\n",
       "      <td>569.000000</td>\n",
       "      <td>569.000000</td>\n",
       "      <td>569.000000</td>\n",
       "      <td>569.000000</td>\n",
       "      <td>569.000000</td>\n",
       "      <td>569.000000</td>\n",
       "      <td>569.000000</td>\n",
       "    </tr>\n",
       "    <tr>\n",
       "      <th>unique</th>\n",
       "      <td>NaN</td>\n",
       "      <td>2</td>\n",
       "      <td>NaN</td>\n",
       "      <td>NaN</td>\n",
       "      <td>NaN</td>\n",
       "      <td>NaN</td>\n",
       "      <td>NaN</td>\n",
       "      <td>NaN</td>\n",
       "      <td>NaN</td>\n",
       "      <td>NaN</td>\n",
       "      <td>...</td>\n",
       "      <td>NaN</td>\n",
       "      <td>NaN</td>\n",
       "      <td>NaN</td>\n",
       "      <td>NaN</td>\n",
       "      <td>NaN</td>\n",
       "      <td>NaN</td>\n",
       "      <td>NaN</td>\n",
       "      <td>NaN</td>\n",
       "      <td>NaN</td>\n",
       "      <td>NaN</td>\n",
       "    </tr>\n",
       "    <tr>\n",
       "      <th>top</th>\n",
       "      <td>NaN</td>\n",
       "      <td>B</td>\n",
       "      <td>NaN</td>\n",
       "      <td>NaN</td>\n",
       "      <td>NaN</td>\n",
       "      <td>NaN</td>\n",
       "      <td>NaN</td>\n",
       "      <td>NaN</td>\n",
       "      <td>NaN</td>\n",
       "      <td>NaN</td>\n",
       "      <td>...</td>\n",
       "      <td>NaN</td>\n",
       "      <td>NaN</td>\n",
       "      <td>NaN</td>\n",
       "      <td>NaN</td>\n",
       "      <td>NaN</td>\n",
       "      <td>NaN</td>\n",
       "      <td>NaN</td>\n",
       "      <td>NaN</td>\n",
       "      <td>NaN</td>\n",
       "      <td>NaN</td>\n",
       "    </tr>\n",
       "    <tr>\n",
       "      <th>freq</th>\n",
       "      <td>NaN</td>\n",
       "      <td>357</td>\n",
       "      <td>NaN</td>\n",
       "      <td>NaN</td>\n",
       "      <td>NaN</td>\n",
       "      <td>NaN</td>\n",
       "      <td>NaN</td>\n",
       "      <td>NaN</td>\n",
       "      <td>NaN</td>\n",
       "      <td>NaN</td>\n",
       "      <td>...</td>\n",
       "      <td>NaN</td>\n",
       "      <td>NaN</td>\n",
       "      <td>NaN</td>\n",
       "      <td>NaN</td>\n",
       "      <td>NaN</td>\n",
       "      <td>NaN</td>\n",
       "      <td>NaN</td>\n",
       "      <td>NaN</td>\n",
       "      <td>NaN</td>\n",
       "      <td>NaN</td>\n",
       "    </tr>\n",
       "    <tr>\n",
       "      <th>mean</th>\n",
       "      <td>3.037183e+07</td>\n",
       "      <td>NaN</td>\n",
       "      <td>14.127292</td>\n",
       "      <td>19.289649</td>\n",
       "      <td>91.969033</td>\n",
       "      <td>654.889104</td>\n",
       "      <td>0.096360</td>\n",
       "      <td>0.104341</td>\n",
       "      <td>0.088799</td>\n",
       "      <td>0.048919</td>\n",
       "      <td>...</td>\n",
       "      <td>16.269190</td>\n",
       "      <td>25.677223</td>\n",
       "      <td>107.261213</td>\n",
       "      <td>880.583128</td>\n",
       "      <td>0.132369</td>\n",
       "      <td>0.254265</td>\n",
       "      <td>0.272188</td>\n",
       "      <td>0.114606</td>\n",
       "      <td>0.290076</td>\n",
       "      <td>0.083946</td>\n",
       "    </tr>\n",
       "    <tr>\n",
       "      <th>std</th>\n",
       "      <td>1.250206e+08</td>\n",
       "      <td>NaN</td>\n",
       "      <td>3.524049</td>\n",
       "      <td>4.301036</td>\n",
       "      <td>24.298981</td>\n",
       "      <td>351.914129</td>\n",
       "      <td>0.014064</td>\n",
       "      <td>0.052813</td>\n",
       "      <td>0.079720</td>\n",
       "      <td>0.038803</td>\n",
       "      <td>...</td>\n",
       "      <td>4.833242</td>\n",
       "      <td>6.146258</td>\n",
       "      <td>33.602542</td>\n",
       "      <td>569.356993</td>\n",
       "      <td>0.022832</td>\n",
       "      <td>0.157336</td>\n",
       "      <td>0.208624</td>\n",
       "      <td>0.065732</td>\n",
       "      <td>0.061867</td>\n",
       "      <td>0.018061</td>\n",
       "    </tr>\n",
       "    <tr>\n",
       "      <th>min</th>\n",
       "      <td>8.670000e+03</td>\n",
       "      <td>NaN</td>\n",
       "      <td>6.981000</td>\n",
       "      <td>9.710000</td>\n",
       "      <td>43.790000</td>\n",
       "      <td>143.500000</td>\n",
       "      <td>0.052630</td>\n",
       "      <td>0.019380</td>\n",
       "      <td>0.000000</td>\n",
       "      <td>0.000000</td>\n",
       "      <td>...</td>\n",
       "      <td>7.930000</td>\n",
       "      <td>12.020000</td>\n",
       "      <td>50.410000</td>\n",
       "      <td>185.200000</td>\n",
       "      <td>0.071170</td>\n",
       "      <td>0.027290</td>\n",
       "      <td>0.000000</td>\n",
       "      <td>0.000000</td>\n",
       "      <td>0.156500</td>\n",
       "      <td>0.055040</td>\n",
       "    </tr>\n",
       "    <tr>\n",
       "      <th>25%</th>\n",
       "      <td>8.692180e+05</td>\n",
       "      <td>NaN</td>\n",
       "      <td>11.700000</td>\n",
       "      <td>16.170000</td>\n",
       "      <td>75.170000</td>\n",
       "      <td>420.300000</td>\n",
       "      <td>0.086370</td>\n",
       "      <td>0.064920</td>\n",
       "      <td>0.029560</td>\n",
       "      <td>0.020310</td>\n",
       "      <td>...</td>\n",
       "      <td>13.010000</td>\n",
       "      <td>21.080000</td>\n",
       "      <td>84.110000</td>\n",
       "      <td>515.300000</td>\n",
       "      <td>0.116600</td>\n",
       "      <td>0.147200</td>\n",
       "      <td>0.114500</td>\n",
       "      <td>0.064930</td>\n",
       "      <td>0.250400</td>\n",
       "      <td>0.071460</td>\n",
       "    </tr>\n",
       "    <tr>\n",
       "      <th>50%</th>\n",
       "      <td>9.060240e+05</td>\n",
       "      <td>NaN</td>\n",
       "      <td>13.370000</td>\n",
       "      <td>18.840000</td>\n",
       "      <td>86.240000</td>\n",
       "      <td>551.100000</td>\n",
       "      <td>0.095870</td>\n",
       "      <td>0.092630</td>\n",
       "      <td>0.061540</td>\n",
       "      <td>0.033500</td>\n",
       "      <td>...</td>\n",
       "      <td>14.970000</td>\n",
       "      <td>25.410000</td>\n",
       "      <td>97.660000</td>\n",
       "      <td>686.500000</td>\n",
       "      <td>0.131300</td>\n",
       "      <td>0.211900</td>\n",
       "      <td>0.226700</td>\n",
       "      <td>0.099930</td>\n",
       "      <td>0.282200</td>\n",
       "      <td>0.080040</td>\n",
       "    </tr>\n",
       "    <tr>\n",
       "      <th>75%</th>\n",
       "      <td>8.813129e+06</td>\n",
       "      <td>NaN</td>\n",
       "      <td>15.780000</td>\n",
       "      <td>21.800000</td>\n",
       "      <td>104.100000</td>\n",
       "      <td>782.700000</td>\n",
       "      <td>0.105300</td>\n",
       "      <td>0.130400</td>\n",
       "      <td>0.130700</td>\n",
       "      <td>0.074000</td>\n",
       "      <td>...</td>\n",
       "      <td>18.790000</td>\n",
       "      <td>29.720000</td>\n",
       "      <td>125.400000</td>\n",
       "      <td>1084.000000</td>\n",
       "      <td>0.146000</td>\n",
       "      <td>0.339100</td>\n",
       "      <td>0.382900</td>\n",
       "      <td>0.161400</td>\n",
       "      <td>0.317900</td>\n",
       "      <td>0.092080</td>\n",
       "    </tr>\n",
       "    <tr>\n",
       "      <th>max</th>\n",
       "      <td>9.113205e+08</td>\n",
       "      <td>NaN</td>\n",
       "      <td>28.110000</td>\n",
       "      <td>39.280000</td>\n",
       "      <td>188.500000</td>\n",
       "      <td>2501.000000</td>\n",
       "      <td>0.163400</td>\n",
       "      <td>0.345400</td>\n",
       "      <td>0.426800</td>\n",
       "      <td>0.201200</td>\n",
       "      <td>...</td>\n",
       "      <td>36.040000</td>\n",
       "      <td>49.540000</td>\n",
       "      <td>251.200000</td>\n",
       "      <td>4254.000000</td>\n",
       "      <td>0.222600</td>\n",
       "      <td>1.058000</td>\n",
       "      <td>1.252000</td>\n",
       "      <td>0.291000</td>\n",
       "      <td>0.663800</td>\n",
       "      <td>0.207500</td>\n",
       "    </tr>\n",
       "  </tbody>\n",
       "</table>\n",
       "<p>11 rows × 32 columns</p>\n",
       "</div>"
      ],
      "text/plain": [
       "                  ID diagnosis  radius_mean  radius_sd_error  radius_worst  \\\n",
       "count   5.690000e+02       569   569.000000       569.000000    569.000000   \n",
       "unique           NaN         2          NaN              NaN           NaN   \n",
       "top              NaN         B          NaN              NaN           NaN   \n",
       "freq             NaN       357          NaN              NaN           NaN   \n",
       "mean    3.037183e+07       NaN    14.127292        19.289649     91.969033   \n",
       "std     1.250206e+08       NaN     3.524049         4.301036     24.298981   \n",
       "min     8.670000e+03       NaN     6.981000         9.710000     43.790000   \n",
       "25%     8.692180e+05       NaN    11.700000        16.170000     75.170000   \n",
       "50%     9.060240e+05       NaN    13.370000        18.840000     86.240000   \n",
       "75%     8.813129e+06       NaN    15.780000        21.800000    104.100000   \n",
       "max     9.113205e+08       NaN    28.110000        39.280000    188.500000   \n",
       "\n",
       "        texture_mean  texture_sd_error  texture_worst  perimeter_mean  \\\n",
       "count     569.000000        569.000000     569.000000      569.000000   \n",
       "unique           NaN               NaN            NaN             NaN   \n",
       "top              NaN               NaN            NaN             NaN   \n",
       "freq             NaN               NaN            NaN             NaN   \n",
       "mean      654.889104          0.096360       0.104341        0.088799   \n",
       "std       351.914129          0.014064       0.052813        0.079720   \n",
       "min       143.500000          0.052630       0.019380        0.000000   \n",
       "25%       420.300000          0.086370       0.064920        0.029560   \n",
       "50%       551.100000          0.095870       0.092630        0.061540   \n",
       "75%       782.700000          0.105300       0.130400        0.130700   \n",
       "max      2501.000000          0.163400       0.345400        0.426800   \n",
       "\n",
       "        perimeter_sd_error           ...             concavity_worst  \\\n",
       "count           569.000000           ...                  569.000000   \n",
       "unique                 NaN           ...                         NaN   \n",
       "top                    NaN           ...                         NaN   \n",
       "freq                   NaN           ...                         NaN   \n",
       "mean              0.048919           ...                   16.269190   \n",
       "std               0.038803           ...                    4.833242   \n",
       "min               0.000000           ...                    7.930000   \n",
       "25%               0.020310           ...                   13.010000   \n",
       "50%               0.033500           ...                   14.970000   \n",
       "75%               0.074000           ...                   18.790000   \n",
       "max               0.201200           ...                   36.040000   \n",
       "\n",
       "        concave_points_mean  concave_points_sd_error  concave_points_worst  \\\n",
       "count            569.000000               569.000000            569.000000   \n",
       "unique                  NaN                      NaN                   NaN   \n",
       "top                     NaN                      NaN                   NaN   \n",
       "freq                    NaN                      NaN                   NaN   \n",
       "mean              25.677223               107.261213            880.583128   \n",
       "std                6.146258                33.602542            569.356993   \n",
       "min               12.020000                50.410000            185.200000   \n",
       "25%               21.080000                84.110000            515.300000   \n",
       "50%               25.410000                97.660000            686.500000   \n",
       "75%               29.720000               125.400000           1084.000000   \n",
       "max               49.540000               251.200000           4254.000000   \n",
       "\n",
       "        symmetry_mean  symmetry_sd_error  symmetry_worst  \\\n",
       "count      569.000000         569.000000      569.000000   \n",
       "unique            NaN                NaN             NaN   \n",
       "top               NaN                NaN             NaN   \n",
       "freq              NaN                NaN             NaN   \n",
       "mean         0.132369           0.254265        0.272188   \n",
       "std          0.022832           0.157336        0.208624   \n",
       "min          0.071170           0.027290        0.000000   \n",
       "25%          0.116600           0.147200        0.114500   \n",
       "50%          0.131300           0.211900        0.226700   \n",
       "75%          0.146000           0.339100        0.382900   \n",
       "max          0.222600           1.058000        1.252000   \n",
       "\n",
       "        fractal_dimension_mean  fractal_dimension_sd_error  \\\n",
       "count               569.000000                  569.000000   \n",
       "unique                     NaN                         NaN   \n",
       "top                        NaN                         NaN   \n",
       "freq                       NaN                         NaN   \n",
       "mean                  0.114606                    0.290076   \n",
       "std                   0.065732                    0.061867   \n",
       "min                   0.000000                    0.156500   \n",
       "25%                   0.064930                    0.250400   \n",
       "50%                   0.099930                    0.282200   \n",
       "75%                   0.161400                    0.317900   \n",
       "max                   0.291000                    0.663800   \n",
       "\n",
       "        fractal_dimension_worst  \n",
       "count                569.000000  \n",
       "unique                      NaN  \n",
       "top                         NaN  \n",
       "freq                        NaN  \n",
       "mean                   0.083946  \n",
       "std                    0.018061  \n",
       "min                    0.055040  \n",
       "25%                    0.071460  \n",
       "50%                    0.080040  \n",
       "75%                    0.092080  \n",
       "max                    0.207500  \n",
       "\n",
       "[11 rows x 32 columns]"
      ]
     },
     "execution_count": 29,
     "metadata": {},
     "output_type": "execute_result"
    }
   ],
   "source": [
    "data.describe(include = 'all')"
   ]
  },
  {
   "cell_type": "code",
   "execution_count": 48,
   "metadata": {
    "collapsed": false
   },
   "outputs": [
    {
     "name": "stdout",
     "output_type": "stream",
     "text": [
      "[]\n"
     ]
    }
   ],
   "source": [
    "# check for missing values\n",
    "colWithMissingVals = []\n",
    "for col in np.arange(data.shape[1]):\n",
    "    if data[data.iloc[:,col].isnull()].shape[0] > 0:\n",
    "        colWithMissingVals.append(headerList[col])\n",
    "print colWithMissingVals"
   ]
  },
  {
   "cell_type": "code",
   "execution_count": 75,
   "metadata": {
    "collapsed": true
   },
   "outputs": [],
   "source": [
    "# separate data from target\n",
    "data_records = data.iloc[:,2:]\n",
    "data_target = data.iloc[:,0:2]"
   ]
  },
  {
   "cell_type": "code",
   "execution_count": 87,
   "metadata": {
    "collapsed": false
   },
   "outputs": [],
   "source": [
    "# normalize columns\n",
    "min_max_scaler = preprocessing.MinMaxScaler().fit(data_records)\n",
    "data_records_scaled = min_max_scaler.transform(data_records)\n",
    "data_records_norm = pd.DataFrame(data_records_scaled,columns = headerList[2:])"
   ]
  },
  {
   "cell_type": "code",
   "execution_count": 89,
   "metadata": {
    "collapsed": false
   },
   "outputs": [
    {
     "data": {
      "text/html": [
       "<div>\n",
       "<table border=\"1\" class=\"dataframe\">\n",
       "  <thead>\n",
       "    <tr style=\"text-align: right;\">\n",
       "      <th></th>\n",
       "      <th>radius_mean</th>\n",
       "      <th>radius_sd_error</th>\n",
       "      <th>radius_worst</th>\n",
       "      <th>texture_mean</th>\n",
       "      <th>texture_sd_error</th>\n",
       "      <th>texture_worst</th>\n",
       "      <th>perimeter_mean</th>\n",
       "      <th>perimeter_sd_error</th>\n",
       "      <th>perimeter_worst</th>\n",
       "      <th>area_mean</th>\n",
       "      <th>...</th>\n",
       "      <th>concavity_worst</th>\n",
       "      <th>concave_points_mean</th>\n",
       "      <th>concave_points_sd_error</th>\n",
       "      <th>concave_points_worst</th>\n",
       "      <th>symmetry_mean</th>\n",
       "      <th>symmetry_sd_error</th>\n",
       "      <th>symmetry_worst</th>\n",
       "      <th>fractal_dimension_mean</th>\n",
       "      <th>fractal_dimension_sd_error</th>\n",
       "      <th>fractal_dimension_worst</th>\n",
       "    </tr>\n",
       "  </thead>\n",
       "  <tbody>\n",
       "    <tr>\n",
       "      <th>0</th>\n",
       "      <td>0.521037</td>\n",
       "      <td>0.022658</td>\n",
       "      <td>0.545989</td>\n",
       "      <td>0.363733</td>\n",
       "      <td>0.593753</td>\n",
       "      <td>0.792037</td>\n",
       "      <td>0.703140</td>\n",
       "      <td>0.731113</td>\n",
       "      <td>0.686364</td>\n",
       "      <td>0.605518</td>\n",
       "      <td>...</td>\n",
       "      <td>0.620776</td>\n",
       "      <td>0.141525</td>\n",
       "      <td>0.668310</td>\n",
       "      <td>0.450698</td>\n",
       "      <td>0.601136</td>\n",
       "      <td>0.619292</td>\n",
       "      <td>0.568610</td>\n",
       "      <td>0.912027</td>\n",
       "      <td>0.598462</td>\n",
       "      <td>0.418864</td>\n",
       "    </tr>\n",
       "    <tr>\n",
       "      <th>1</th>\n",
       "      <td>0.643144</td>\n",
       "      <td>0.272574</td>\n",
       "      <td>0.615783</td>\n",
       "      <td>0.501591</td>\n",
       "      <td>0.289880</td>\n",
       "      <td>0.181768</td>\n",
       "      <td>0.203608</td>\n",
       "      <td>0.348757</td>\n",
       "      <td>0.379798</td>\n",
       "      <td>0.141323</td>\n",
       "      <td>...</td>\n",
       "      <td>0.606901</td>\n",
       "      <td>0.303571</td>\n",
       "      <td>0.539818</td>\n",
       "      <td>0.435214</td>\n",
       "      <td>0.347553</td>\n",
       "      <td>0.154563</td>\n",
       "      <td>0.192971</td>\n",
       "      <td>0.639175</td>\n",
       "      <td>0.233590</td>\n",
       "      <td>0.222878</td>\n",
       "    </tr>\n",
       "    <tr>\n",
       "      <th>2</th>\n",
       "      <td>0.601496</td>\n",
       "      <td>0.390260</td>\n",
       "      <td>0.595743</td>\n",
       "      <td>0.449417</td>\n",
       "      <td>0.514309</td>\n",
       "      <td>0.431017</td>\n",
       "      <td>0.462512</td>\n",
       "      <td>0.635686</td>\n",
       "      <td>0.509596</td>\n",
       "      <td>0.211247</td>\n",
       "      <td>...</td>\n",
       "      <td>0.556386</td>\n",
       "      <td>0.360075</td>\n",
       "      <td>0.508442</td>\n",
       "      <td>0.374508</td>\n",
       "      <td>0.483590</td>\n",
       "      <td>0.385375</td>\n",
       "      <td>0.359744</td>\n",
       "      <td>0.835052</td>\n",
       "      <td>0.403706</td>\n",
       "      <td>0.213433</td>\n",
       "    </tr>\n",
       "    <tr>\n",
       "      <th>3</th>\n",
       "      <td>0.210090</td>\n",
       "      <td>0.360839</td>\n",
       "      <td>0.233501</td>\n",
       "      <td>0.102906</td>\n",
       "      <td>0.811321</td>\n",
       "      <td>0.811361</td>\n",
       "      <td>0.565604</td>\n",
       "      <td>0.522863</td>\n",
       "      <td>0.776263</td>\n",
       "      <td>1.000000</td>\n",
       "      <td>...</td>\n",
       "      <td>0.248310</td>\n",
       "      <td>0.385928</td>\n",
       "      <td>0.241347</td>\n",
       "      <td>0.094008</td>\n",
       "      <td>0.915472</td>\n",
       "      <td>0.814012</td>\n",
       "      <td>0.548642</td>\n",
       "      <td>0.884880</td>\n",
       "      <td>1.000000</td>\n",
       "      <td>0.773711</td>\n",
       "    </tr>\n",
       "    <tr>\n",
       "      <th>4</th>\n",
       "      <td>0.629893</td>\n",
       "      <td>0.156578</td>\n",
       "      <td>0.630986</td>\n",
       "      <td>0.489290</td>\n",
       "      <td>0.430351</td>\n",
       "      <td>0.347893</td>\n",
       "      <td>0.463918</td>\n",
       "      <td>0.518390</td>\n",
       "      <td>0.378283</td>\n",
       "      <td>0.186816</td>\n",
       "      <td>...</td>\n",
       "      <td>0.519744</td>\n",
       "      <td>0.123934</td>\n",
       "      <td>0.506948</td>\n",
       "      <td>0.341575</td>\n",
       "      <td>0.437364</td>\n",
       "      <td>0.172415</td>\n",
       "      <td>0.319489</td>\n",
       "      <td>0.558419</td>\n",
       "      <td>0.157500</td>\n",
       "      <td>0.142595</td>\n",
       "    </tr>\n",
       "  </tbody>\n",
       "</table>\n",
       "<p>5 rows × 30 columns</p>\n",
       "</div>"
      ],
      "text/plain": [
       "   radius_mean  radius_sd_error  radius_worst  texture_mean  texture_sd_error  \\\n",
       "0     0.521037         0.022658      0.545989      0.363733          0.593753   \n",
       "1     0.643144         0.272574      0.615783      0.501591          0.289880   \n",
       "2     0.601496         0.390260      0.595743      0.449417          0.514309   \n",
       "3     0.210090         0.360839      0.233501      0.102906          0.811321   \n",
       "4     0.629893         0.156578      0.630986      0.489290          0.430351   \n",
       "\n",
       "   texture_worst  perimeter_mean  perimeter_sd_error  perimeter_worst  \\\n",
       "0       0.792037        0.703140            0.731113         0.686364   \n",
       "1       0.181768        0.203608            0.348757         0.379798   \n",
       "2       0.431017        0.462512            0.635686         0.509596   \n",
       "3       0.811361        0.565604            0.522863         0.776263   \n",
       "4       0.347893        0.463918            0.518390         0.378283   \n",
       "\n",
       "   area_mean           ...             concavity_worst  concave_points_mean  \\\n",
       "0   0.605518           ...                    0.620776             0.141525   \n",
       "1   0.141323           ...                    0.606901             0.303571   \n",
       "2   0.211247           ...                    0.556386             0.360075   \n",
       "3   1.000000           ...                    0.248310             0.385928   \n",
       "4   0.186816           ...                    0.519744             0.123934   \n",
       "\n",
       "   concave_points_sd_error  concave_points_worst  symmetry_mean  \\\n",
       "0                 0.668310              0.450698       0.601136   \n",
       "1                 0.539818              0.435214       0.347553   \n",
       "2                 0.508442              0.374508       0.483590   \n",
       "3                 0.241347              0.094008       0.915472   \n",
       "4                 0.506948              0.341575       0.437364   \n",
       "\n",
       "   symmetry_sd_error  symmetry_worst  fractal_dimension_mean  \\\n",
       "0           0.619292        0.568610                0.912027   \n",
       "1           0.154563        0.192971                0.639175   \n",
       "2           0.385375        0.359744                0.835052   \n",
       "3           0.814012        0.548642                0.884880   \n",
       "4           0.172415        0.319489                0.558419   \n",
       "\n",
       "   fractal_dimension_sd_error  fractal_dimension_worst  \n",
       "0                    0.598462                 0.418864  \n",
       "1                    0.233590                 0.222878  \n",
       "2                    0.403706                 0.213433  \n",
       "3                    1.000000                 0.773711  \n",
       "4                    0.157500                 0.142595  \n",
       "\n",
       "[5 rows x 30 columns]"
      ]
     },
     "execution_count": 89,
     "metadata": {},
     "output_type": "execute_result"
    }
   ],
   "source": [
    "data_records_norm.head()"
   ]
  },
  {
   "cell_type": "markdown",
   "metadata": {},
   "source": [
    "**Comment on any steps you might take to evaluate or transform the dataset**"
   ]
  },
  {
   "cell_type": "markdown",
   "metadata": {},
   "source": [
    "The features are all numerical, but need to be normalized so they are can be analyzed on the same scale. If this is not done, features with larger numbers will carry a larger weight simply because the measurements are in taken in a larger scale.\n",
    "\n",
    "Additionally, the data should be checked for missing values. If values are missing, these should be dealt with through interpolation or removal.\n",
    "\n",
    "The features should also be evaluated for outliers. If outliers are present and likely caused by noise, they should be removed."
   ]
  },
  {
   "cell_type": "markdown",
   "metadata": {},
   "source": [
    "**Compute the mean and median smoothness and compactness for benign and malignant tumors - do they differ? Explain how you would identify this**"
   ]
  },
  {
   "cell_type": "code",
   "execution_count": 98,
   "metadata": {
    "collapsed": true
   },
   "outputs": [],
   "source": [
    "# concatenate the data with target\n",
    "data_norm = pd.concat([data_target,data_records_norm],axis=1)"
   ]
  },
  {
   "cell_type": "code",
   "execution_count": null,
   "metadata": {
    "collapsed": false
   },
   "outputs": [],
   "source": []
  },
  {
   "cell_type": "code",
   "execution_count": 100,
   "metadata": {
    "collapsed": false
   },
   "outputs": [],
   "source": [
    "smoothness_mean_benign = data_norm[data_norm['diagnosis'] == 'B'].smoothness_mean.mean()\n",
    "smoothness_mean_malignant = data_norm[data_norm['diagnosis'] == 'M'].smoothness_mean.mean()\n",
    "compactness_mean_benign = data_norm[data_norm['diagnosis'] == 'B'].compactness_mean.mean()\n",
    "companctness_mean_malignant = data_norm[data_norm['diagnosis'] == 'M'].compactness_mean.mean()"
   ]
  },
  {
   "cell_type": "code",
   "execution_count": 101,
   "metadata": {
    "collapsed": false
   },
   "outputs": [],
   "source": [
    "smoothness_median_benign = data_norm[data_norm.diagnosis == 'B'].smoothness_mean.median()\n",
    "smoothness_median_malignant = data_norm[data_norm.diagnosis == 'M'].smoothness_mean.median()\n",
    "compactness_median_benign = data_norm[data_norm.diagnosis == 'B'].compactness_mean.median()\n",
    "companctness_median_malignant = data_norm[data_norm.diagnosis == 'M'].compactness_mean.median()"
   ]
  },
  {
   "cell_type": "code",
   "execution_count": 102,
   "metadata": {
    "collapsed": false
   },
   "outputs": [
    {
     "name": "stdout",
     "output_type": "stream",
     "text": [
      "Smoothness Mean - Benign:  0.0585836728321\n",
      "Smoothness Mean - Malignant:  0.168069040441\n",
      "Compactness Mean- Benign:  0.144097143769\n",
      "Compactness Mean - Malignant:  0.225532228004\n"
     ]
    }
   ],
   "source": [
    "print \"Smoothness Mean - Benign: \",smoothness_mean_benign\n",
    "print \"Smoothness Mean - Malignant: \",smoothness_mean_malignant\n",
    "print \"Compactness Mean- Benign: \",compactness_mean_benign\n",
    "print \"Compactness Mean - Malignant: \",companctness_mean_malignant"
   ]
  },
  {
   "cell_type": "code",
   "execution_count": 103,
   "metadata": {
    "collapsed": false
   },
   "outputs": [
    {
     "name": "stdout",
     "output_type": "stream",
     "text": [
      "Smoothness Median - Benign:  0.0515478490317\n",
      "Smoothness Median - Malignant:  0.137704377326\n",
      "Compactness Median - Benign:  0.105581758645\n",
      "Compactness Median - Malignant:  0.197809955839\n"
     ]
    }
   ],
   "source": [
    "print \"Smoothness Median - Benign: \",smoothness_median_benign\n",
    "print \"Smoothness Median - Malignant: \",smoothness_median_malignant\n",
    "print \"Compactness Median - Benign: \",compactness_median_benign\n",
    "print \"Compactness Median - Malignant: \",companctness_median_malignant"
   ]
  },
  {
   "cell_type": "code",
   "execution_count": 104,
   "metadata": {
    "collapsed": true
   },
   "outputs": [],
   "source": [
    "from scipy.stats import ttest_ind"
   ]
  },
  {
   "cell_type": "code",
   "execution_count": 108,
   "metadata": {
    "collapsed": false
   },
   "outputs": [],
   "source": [
    "benign_Data = data_norm[data_norm['diagnosis']=='B']\n",
    "malignant_Data = data_norm[data_norm['diagnosis']=='M']"
   ]
  },
  {
   "cell_type": "code",
   "execution_count": 109,
   "metadata": {
    "collapsed": false
   },
   "outputs": [
    {
     "name": "stdout",
     "output_type": "stream",
     "text": [
      "Ttest_indResult(statistic=-15.934158019257904, pvalue=1.651905175849735e-47)\n"
     ]
    }
   ],
   "source": [
    "print ttest_ind(benign_Data['smoothness_mean'], malignant_Data['smoothness_mean'])"
   ]
  },
  {
   "cell_type": "code",
   "execution_count": 110,
   "metadata": {
    "collapsed": false
   },
   "outputs": [
    {
     "name": "stdout",
     "output_type": "stream",
     "text": [
      "Ttest_indResult(statistic=-7.2970774374485252, pvalue=9.9759946540749462e-13)\n"
     ]
    }
   ],
   "source": [
    "print ttest_ind(benign_Data['compactness_mean'], malignant_Data['compactness_mean'])"
   ]
  },
  {
   "cell_type": "markdown",
   "metadata": {},
   "source": [
    "Yes, the statistics for smoothness and compactness means differ. This is confirmed with a t-test that shows the distributions are statistically different based on the null hypothesis that they are pulled from the same distribution."
   ]
  },
  {
   "cell_type": "markdown",
   "metadata": {},
   "source": [
    "**Write a function to generate bootstrap samples of the data**"
   ]
  },
  {
   "cell_type": "code",
   "execution_count": 228,
   "metadata": {
    "collapsed": false
   },
   "outputs": [],
   "source": [
    "def bootstrapper(df,N,num_iterations,statistic = 'mean'):\n",
    "    # df: pandas DF containing data\n",
    "    # N: the sample size to be taken each iteration\n",
    "    # num_iterations: number of bootstrap samples to take\n",
    "    # statistic: the statistic to measure, either 'mean' or 'standard_deviation'\n",
    "    \n",
    "    # Returns two numpy arrays containing all the samples and their statistics\n",
    "    \n",
    "    num_cols = df.shape[1]\n",
    "    \n",
    "    dtype = [('sampleSet',np.float64,[N,num_cols]),('statistic',np.float64,[1,num_cols])]\n",
    "    sampleArrays = np.zeros(num_iterations,dtype=dtype)\n",
    "    stats = np.zeros(num_iterations,dtype=dtype)\n",
    "    \n",
    "    if statistic == 'mean':\n",
    "        for samp in np.arange(num_iterations):\n",
    "            curr_Sample = df.sample(N)\n",
    "            sampleArrays[samp]['sampleSet'] = curr_Sample\n",
    "            stats[samp]['statistic'] = curr_Sample.mean()\n",
    "    elif statistic == 'standard_deviation':\n",
    "        for samp in np.arange(num_iterations):\n",
    "            curr_Sample = df.sample(N)\n",
    "            sampleArrays[samp]['sampleSet'] = curr_Sample\n",
    "            stats[samp]['statistic'] = curr_Sample.std()\n",
    "    else:\n",
    "        print \"Invalid Input for 'Statistic'\"\n",
    "    return sampleArrays,\n",
    "    "
   ]
  },
  {
   "cell_type": "code",
   "execution_count": 229,
   "metadata": {
    "collapsed": false
   },
   "outputs": [],
   "source": [
    "bootstrappedArr = bootstrapper(data_norm.iloc[:,2:],50,5,'mean')"
   ]
  },
  {
   "cell_type": "code",
   "execution_count": 233,
   "metadata": {
    "collapsed": false
   },
   "outputs": [
    {
     "data": {
      "text/plain": [
       "array([[ 0.27161721,  0.1376395 ,  0.26252505, ...,  0.21797251,\n",
       "         0.1584861 ,  0.093008  ],\n",
       "       [ 0.21434995,  0.4808928 ,  0.21235575, ...,  0.33171821,\n",
       "         0.10782574,  0.21172767],\n",
       "       [ 0.21056368,  0.25701725,  0.20641283, ...,  0.22      ,\n",
       "         0.20086734,  0.17001181],\n",
       "       ..., \n",
       "       [ 0.30238061,  0.22590463,  0.29237786, ...,  0.30852234,\n",
       "         0.09520993,  0.13931523],\n",
       "       [ 0.53192295,  0.30977342,  0.517656  , ...,  0.61030928,\n",
       "         0.24581116,  0.17670209],\n",
       "       [ 0.55038099,  0.35644234,  0.54115127, ...,  0.51202749,\n",
       "         0.15296669,  0.1257379 ]])"
      ]
     },
     "execution_count": 233,
     "metadata": {},
     "output_type": "execute_result"
    }
   ],
   "source": [
    "bootstrappedArr[0]['sampleSet'][4]"
   ]
  },
  {
   "cell_type": "markdown",
   "metadata": {},
   "source": [
    "**Exploratory Analysis: Identify 2-3 variables that are predictive of a malignant tumor.\n",
    "Display the relationship visually and write 1-2 sentences explaining the relationship.**"
   ]
  },
  {
   "cell_type": "code",
   "execution_count": 257,
   "metadata": {
    "collapsed": false
   },
   "outputs": [],
   "source": [
    "from sklearn import feature_selection"
   ]
  },
  {
   "cell_type": "code",
   "execution_count": 330,
   "metadata": {
    "collapsed": false
   },
   "outputs": [],
   "source": [
    "# select top 10 percentile of features based on ANOVA F-value (~3 features)\n",
    "fs = feature_selection.SelectKBest(feature_selection.chi2,k=3)\n",
    "X_train_fs = fs.fit_transform(data_norm[headerList[2:]],data_norm[headerList[1]])"
   ]
  },
  {
   "cell_type": "code",
   "execution_count": 331,
   "metadata": {
    "collapsed": false
   },
   "outputs": [
    {
     "name": "stdout",
     "output_type": "stream",
     "text": [
      "[False False False False False False  True  True False False False False\n",
      " False False False False False False False False False False False False\n",
      " False False False  True False False]\n"
     ]
    }
   ],
   "source": [
    "print fs.get_support()"
   ]
  },
  {
   "cell_type": "code",
   "execution_count": 332,
   "metadata": {
    "collapsed": false
   },
   "outputs": [
    {
     "name": "stdout",
     "output_type": "stream",
     "text": [
      "[  2.48972929e+01   6.39407141e+00   2.65289023e+01   2.93285938e+01\n",
      "   2.98190040e+00   2.03531759e+01   4.61863954e+01   5.24057427e+01\n",
      "   3.13313039e+00   7.65553154e-03   1.73241278e+01   3.07449233e-03\n",
      "   1.60443442e+01   1.96769750e+01   1.46728955e-01   5.05676231e+00\n",
      "   2.63817579e+00   5.78199590e+00   1.83480200e-03   2.88033633e-01\n",
      "   3.41249366e+01   8.74162754e+00   3.44380907e+01   3.50438820e+01\n",
      "   5.67573303e+00   2.09925414e+01   3.15630312e+01   4.63416477e+01\n",
      "   5.56009310e+00   4.41012524e+00]\n"
     ]
    }
   ],
   "source": [
    "print fs.scores_"
   ]
  },
  {
   "cell_type": "code",
   "execution_count": 335,
   "metadata": {
    "collapsed": false
   },
   "outputs": [
    {
     "name": "stdout",
     "output_type": "stream",
     "text": [
      "['perimeter_mean' 'perimeter_sd_error' 'fractal_dimension_mean']\n"
     ]
    }
   ],
   "source": [
    "# print the columns with the highest scores\n",
    "feat_names = data_norm.columns[2:][fs.get_support()].values\n",
    "print feat_names"
   ]
  },
  {
   "cell_type": "code",
   "execution_count": 336,
   "metadata": {
    "collapsed": false
   },
   "outputs": [
    {
     "name": "stdout",
     "output_type": "stream",
     "text": [
      "perimeter_mean \t46.1863953908\n",
      "perimeter_sd_error \t52.4057426866\n",
      "fractal_dimension_mean \t46.3416476935\n"
     ]
    }
   ],
   "source": [
    "for i in range(len(data_norm.columns[2:].values)):\n",
    "    if fs.get_support()[i]:\n",
    "        print data_norm.columns[2:].values[i],'\\t',fs.scores_[i]"
   ]
  },
  {
   "cell_type": "code",
   "execution_count": 338,
   "metadata": {
    "collapsed": false
   },
   "outputs": [
    {
     "data": {
      "image/png": "[encoded data removed]",
      "text/plain": [
       "<matplotlib.figure.Figure at 0x63b68c50>"
      ]
     },
     "metadata": {},
     "output_type": "display_data"
    }
   ],
   "source": [
    "X_indices = np.arange(data_norm.shape[-1]-2)\n",
    "plt.figure(1)\n",
    "plt.clf()\n",
    "plt.bar(X_indices+.8,fs.scores_, width = .5)\n",
    "plt.title(\"Feature Scores based on Chi-Squared Test\")\n",
    "plt.xlabel('Feature number')\n",
    "plt.ylabel('chi-squared scores')\n",
    "plt.show()"
   ]
  },
  {
   "cell_type": "markdown",
   "metadata": {},
   "source": [
    "The three best features were perimeter_mean, perimeter_sd_error, and fractal_dimension_mean. These features were evaluated with a univariate feature selection method. This method selected the 3 best features based on a univariate statistical test, chi-squared. This method weeds out the features that are most likely to be independent of the target variable."
   ]
  },
  {
   "cell_type": "markdown",
   "metadata": {},
   "source": [
    "**Modeling: Build a model to predict the malignant tumors.**\n",
    "- Use at least two classification techniques; compare and contrast the advantages and disadvantages of each.\n",
    "- Identify how you would control for overfitting in each classification technique.\n",
    "- Evaluate the performance of each model.\n",
    "- In each model, identify the most important predictive variables and explain how you identified them."
   ]
  },
  {
   "cell_type": "markdown",
   "metadata": {},
   "source": [
    "- Use at least two classification techniques; compare and contrast the advantages and disadvantages of each.\n",
    "Below are a decision tree and a support vector machine classifiers.\n",
    "\n",
    "Pros of Decision Tree:\n",
    "The decision tree is easy to implement and interpret. It can be used on large datasets with nominal and numeric data. The DT can provide insight into important features. Furthermore, not much preprocessing is required.\n",
    "\n",
    "Cons of Decision Tree:\n",
    "The Decision tree is sensitive to changes in the training data. A small change can produce a large effect on the results. It is also a weak learner, meaning it is frequently outperformed by other classifiers. Perhaps the biggest danger is that the decision tree is prone to overfitting. Parameters must be implemented to prevent this.\n",
    "\n",
    "Pros of SVM:\n",
    "Highly accurate. SVMs are capable of performing linear and non-linear classification tasks. They tend to generalize well and easy to interpret.\n",
    "\n",
    "Cons of SVM:\n",
    "SVMs are not suited particularly well on large datasets. Furthermore, SVMs are sensitive to tuning parameters and kernel choice. Lastly, SVM can only handle binary classification, unless used in an ensemble."
   ]
  },
  {
   "cell_type": "markdown",
   "metadata": {},
   "source": [
    "- Identify how you would control for overfitting in each classification technique.\n",
    "The Decision tree used a combination of feature selection using chi-squared statistical test and an iterative selection process to determin the value for max-depth, min leaf size, and min number of samples for a split.\n",
    "\n",
    "The SVM used a soft margin (C=1) to reduce the effect of outliers. For the most part, SVMs generalize well when parameters are accurate."
   ]
  },
  {
   "cell_type": "markdown",
   "metadata": {},
   "source": [
    "- Evaluate the performance of each model.\n",
    "\n",
    "See below."
   ]
  },
  {
   "cell_type": "markdown",
   "metadata": {},
   "source": [
    "- In each model, identify the most important predictive variables and explain how you identified them.\n",
    "\n",
    "Decision Tree:\n",
    "The features selection process identified three features as most important. These were perimeter_mean, perimeter_sd_error, and fractal_dimension_mean. The process used to identify these features was a chi-squared test measuring the independence of each variable with the target. Features will high independence were removed.\n",
    "\n",
    "SVM:\n",
    "The support vector machine was able to find a hyperplane that linearly separated the classes well. No particular features were used more than others."
   ]
  },
  {
   "cell_type": "code",
   "execution_count": null,
   "metadata": {
    "collapsed": true
   },
   "outputs": [],
   "source": []
  },
  {
   "cell_type": "markdown",
   "metadata": {},
   "source": [
    "### MODEL 1: DECISION TREE"
   ]
  },
  {
   "cell_type": "code",
   "execution_count": null,
   "metadata": {
    "collapsed": true
   },
   "outputs": [],
   "source": [
    "from sklearn.cross_validation import train_test_split\n",
    "from sklearn import tree\n",
    "from sklearn import metrics\n",
    "from sklearn.tree import export_graphviz"
   ]
  },
  {
   "cell_type": "markdown",
   "metadata": {},
   "source": [
    "Create function to evaluate model"
   ]
  },
  {
   "cell_type": "code",
   "execution_count": 350,
   "metadata": {
    "collapsed": true
   },
   "outputs": [],
   "source": [
    "def measure_performance(X,y,clf,show_accuracy=True,show_classification_report=True,show_confusion_matrix=True):\n",
    "    y_pred = clf.predict(X)\n",
    "    if show_accuracy:\n",
    "        print \"Accuracy: {0:.3f}\".format(metrics.accuracy_score(y,y_pred)),\"\\n\"\n",
    "    if show_classification_report:\n",
    "        print \"Classification Report\"\n",
    "        print metrics.classification_report(y,y_pred),\"\\n\"\n",
    "    if show_confusion_matrix:\n",
    "        print \"Confusion Matrix\"\n",
    "        print metrics.confusion_matrix(y,y_pred),\"\\n\""
   ]
  },
  {
   "cell_type": "code",
   "execution_count": 346,
   "metadata": {
    "collapsed": true
   },
   "outputs": [],
   "source": [
    "# separate target from data\n",
    "X = data_norm[headerList[2:]]\n",
    "y = data_norm['diagnosis']"
   ]
  },
  {
   "cell_type": "code",
   "execution_count": 394,
   "metadata": {
    "collapsed": true
   },
   "outputs": [],
   "source": [
    "# separate into training and testing sets\n",
    "X_train, X_test, y_train, y_test = train_test_split(X,y,test_size=0.33)"
   ]
  },
  {
   "cell_type": "code",
   "execution_count": 373,
   "metadata": {
    "collapsed": false
   },
   "outputs": [],
   "source": [
    "# select features again\n",
    "fs = feature_selection.SelectKBest(feature_selection.chi2,k=3)\n",
    "X_train_fs = fs.fit_transform(X_train,y_train)"
   ]
  },
  {
   "cell_type": "code",
   "execution_count": 374,
   "metadata": {
    "collapsed": false
   },
   "outputs": [
    {
     "name": "stdout",
     "output_type": "stream",
     "text": [
      "perimeter_mean \t28.9490447936\n",
      "perimeter_sd_error \t34.5426299829\n",
      "fractal_dimension_mean \t29.8973091718\n"
     ]
    }
   ],
   "source": [
    "for i in range(len(data_norm.columns[2:].values)):\n",
    "    if fs.get_support()[i]:\n",
    "        print data_norm.columns[2:].values[i],'\\t',fs.scores_[i]"
   ]
  },
  {
   "cell_type": "code",
   "execution_count": null,
   "metadata": {
    "collapsed": true
   },
   "outputs": [],
   "source": []
  },
  {
   "cell_type": "code",
   "execution_count": 376,
   "metadata": {
    "collapsed": false
   },
   "outputs": [
    {
     "name": "stdout",
     "output_type": "stream",
     "text": [
      "Accuracy: 0.904 \n",
      "\n",
      "Classification Report\n",
      "             precision    recall  f1-score   support\n",
      "\n",
      "          B       0.90      0.94      0.92       111\n",
      "          M       0.90      0.86      0.88        77\n",
      "\n",
      "avg / total       0.90      0.90      0.90       188\n",
      "\n",
      "\n",
      "Confusion Matrix\n",
      "[[104   7]\n",
      " [ 11  66]] \n",
      "\n"
     ]
    }
   ],
   "source": [
    "# performance on testing\n",
    "dt = tree.DecisionTreeClassifier(criterion='entropy')\n",
    "dt.fit(X_train_fs,y_train)\n",
    "X_test_fs = fs.transform(X_test)\n",
    "measure_performance(X_test_fs,y_test,dt)"
   ]
  },
  {
   "cell_type": "code",
   "execution_count": 378,
   "metadata": {
    "collapsed": false
   },
   "outputs": [
    {
     "name": "stdout",
     "output_type": "stream",
     "text": [
      "Accuracy: 1.000 \n",
      "\n",
      "Classification Report\n",
      "             precision    recall  f1-score   support\n",
      "\n",
      "          B       1.00      1.00      1.00       246\n",
      "          M       1.00      1.00      1.00       135\n",
      "\n",
      "avg / total       1.00      1.00      1.00       381\n",
      "\n",
      "\n",
      "Confusion Matrix\n",
      "[[246   0]\n",
      " [  0 135]] \n",
      "\n"
     ]
    }
   ],
   "source": [
    "# performance on training\n",
    "measure_performance(X_train_fs,y_train,dt)"
   ]
  },
  {
   "cell_type": "code",
   "execution_count": null,
   "metadata": {
    "collapsed": true
   },
   "outputs": [],
   "source": [
    "export_graphviz(dt,out_file='featSelectTree.dot',feature_names=feat_names,class_names = ['M','B'],rounded=True,filled=True)"
   ]
  },
  {
   "cell_type": "markdown",
   "metadata": {},
   "source": [
    "** run this code in command prompt to visualize tree:\n",
    "dot -Tpng featSelectTree.dot -o featSelectTree.png**"
   ]
  },
  {
   "cell_type": "code",
   "execution_count": 381,
   "metadata": {
    "collapsed": true
   },
   "outputs": [],
   "source": [
    "from sklearn.cross_validation import KFold"
   ]
  },
  {
   "cell_type": "code",
   "execution_count": 382,
   "metadata": {
    "collapsed": true
   },
   "outputs": [],
   "source": [
    "# Find ideal parameters\n",
    "def calc_params(X, y, clf, param_values, param_name, K):\n",
    "    \n",
    "    # Convert input to Numpy arrays\n",
    "    X = np.array(X)\n",
    "    y = np.array(y)\n",
    "\n",
    "    # initialize training and testing scores with zeros\n",
    "    train_scores = np.zeros(len(param_values))\n",
    "    test_scores = np.zeros(len(param_values))\n",
    "    \n",
    "    # iterate over the different parameter values\n",
    "    for i, param_value in enumerate(param_values):\n",
    "        print param_name, ' = ', param_value\n",
    "        \n",
    "        # set classifier parameters\n",
    "        clf.set_params(**{param_name:param_value})\n",
    "        \n",
    "        # initialize the K scores obtained for each fold\n",
    "        k_train_scores = np.zeros(K)\n",
    "        k_test_scores = np.zeros(K)\n",
    "        \n",
    "        # create KFold cross validation\n",
    "        cv = KFold(len(X), K, shuffle=True, random_state=0)\n",
    "        \n",
    "        # iterate over the K folds\n",
    "        for j, (train, test) in enumerate(cv):\n",
    "            # fit the classifier in the corresponding fold\n",
    "            # and obtain the corresponding accuracy scores on train and test sets\n",
    "            clf.fit([X[k] for k in train], y[train])\n",
    "            k_train_scores[j] = clf.score([X[k] for k in train], y[train])\n",
    "            k_test_scores[j] = clf.score([X[k] for k in test], y[test])\n",
    "            \n",
    "        # store the mean of the K fold scores\n",
    "        train_scores[i] = np.mean(k_train_scores)\n",
    "        test_scores[i] = np.mean(k_test_scores)\n",
    "       \n",
    "    # plot the training and testing scores in a log scale\n",
    "    plt.plot(param_values, train_scores, label='Train', alpha=0.4, lw=2, c='b')\n",
    "    plt.plot(param_values, test_scores, label='X-Val', alpha=0.4, lw=2, c='g')\n",
    "    plt.legend(loc=7)\n",
    "    plt.xlabel(param_name + \" values\")\n",
    "    plt.ylabel(\"Mean cross validation accuracy\")\n",
    "\n",
    "    # return the training and testing scores on each parameter value\n",
    "    return train_scores, test_scores"
   ]
  },
  {
   "cell_type": "code",
   "execution_count": 383,
   "metadata": {
    "collapsed": false
   },
   "outputs": [
    {
     "name": "stdout",
     "output_type": "stream",
     "text": [
      "[ 1  3  5  7  9 11 13 15 17 19 21 23 25 27 29 31 33 35 37 40]\n"
     ]
    }
   ],
   "source": [
    "# find the best max-depth\n",
    "md = np.linspace(1,40,20)\n",
    "md = np.array([int(e) for e in md])\n",
    "print md"
   ]
  },
  {
   "cell_type": "code",
   "execution_count": 385,
   "metadata": {
    "collapsed": false
   },
   "outputs": [
    {
     "name": "stdout",
     "output_type": "stream",
     "text": [
      "max_depth  =  1\n",
      "max_depth  =  3\n",
      "max_depth  =  5\n",
      "max_depth  =  7\n",
      "max_depth  =  9\n",
      "max_depth  =  11\n",
      "max_depth  =  13\n",
      "max_depth  =  15\n",
      "max_depth  =  17\n",
      "max_depth  =  19\n",
      "max_depth  =  21\n",
      "max_depth  =  23\n",
      "max_depth  =  25\n",
      "max_depth  =  27\n",
      "max_depth  =  29\n",
      "max_depth  =  31\n",
      "max_depth  =  33\n",
      "max_depth  =  35\n",
      "max_depth  =  37\n",
      "max_depth  =  40\n"
     ]
    },
    {
     "data": {
      "image/png": "[encoded data removed]",
      "text/plain": [
       "<matplotlib.figure.Figure at 0x63b3b828>"
      ]
     },
     "metadata": {},
     "output_type": "display_data"
    }
   ],
   "source": [
    "train_scores, test_scores = calc_params(X_train,y_train,dt,md,\"max_depth\",5)"
   ]
  },
  {
   "cell_type": "markdown",
   "metadata": {},
   "source": [
    "max_depth = 3 works best."
   ]
  },
  {
   "cell_type": "code",
   "execution_count": 386,
   "metadata": {
    "collapsed": false
   },
   "outputs": [
    {
     "name": "stdout",
     "output_type": "stream",
     "text": [
      "min_samples_leaf  =  1\n",
      "min_samples_leaf  =  3\n",
      "min_samples_leaf  =  5\n",
      "min_samples_leaf  =  7\n",
      "min_samples_leaf  =  9\n",
      "min_samples_leaf  =  11\n",
      "min_samples_leaf  =  13\n",
      "min_samples_leaf  =  15\n",
      "min_samples_leaf  =  17\n",
      "min_samples_leaf  =  19\n",
      "min_samples_leaf  =  21\n",
      "min_samples_leaf  =  23\n",
      "min_samples_leaf  =  25\n",
      "min_samples_leaf  =  27\n",
      "min_samples_leaf  =  30\n"
     ]
    },
    {
     "data": {
      "image/png": "[encoded data removed]",
      "text/plain": [
       "<matplotlib.figure.Figure at 0x642e4eb8>"
      ]
     },
     "metadata": {},
     "output_type": "display_data"
    }
   ],
   "source": [
    "msl = np.linspace(1, 30, 15)\n",
    "msl = np.array([int(e) for e in msl])\n",
    "\n",
    "dt = tree.DecisionTreeClassifier(criterion='entropy')\n",
    "train_scores, test_scores = calc_params(X_train, y_train, dt, msl, 'min_samples_leaf', 5)"
   ]
  },
  {
   "cell_type": "markdown",
   "metadata": {},
   "source": [
    "min samples = 7 seem best"
   ]
  },
  {
   "cell_type": "code",
   "execution_count": 387,
   "metadata": {
    "collapsed": false
   },
   "outputs": [
    {
     "name": "stdout",
     "output_type": "stream",
     "text": [
      "min_samples_split  =  1\n",
      "min_samples_split  =  3\n",
      "min_samples_split  =  5\n",
      "min_samples_split  =  7\n",
      "min_samples_split  =  9\n",
      "min_samples_split  =  11\n",
      "min_samples_split  =  13\n",
      "min_samples_split  =  15\n",
      "min_samples_split  =  17\n",
      "min_samples_split  =  19\n",
      "min_samples_split  =  21\n",
      "min_samples_split  =  23\n",
      "min_samples_split  =  25\n",
      "min_samples_split  =  27\n",
      "min_samples_split  =  30\n"
     ]
    },
    {
     "data": {
      "image/png": "[encoded data removed]",
      "text/plain": [
       "<matplotlib.figure.Figure at 0x63c02588>"
      ]
     },
     "metadata": {},
     "output_type": "display_data"
    }
   ],
   "source": [
    "mss = np.linspace(1, 30, 15)\n",
    "mss = np.array([int(e) for e in mss])\n",
    "\n",
    "dt = tree.DecisionTreeClassifier(criterion='entropy')\n",
    "train_scores, test_scores = calc_params(X_train, y_train, dt, mss, 'min_samples_split', 5)"
   ]
  },
  {
   "cell_type": "markdown",
   "metadata": {},
   "source": [
    "min samples for split = 1"
   ]
  },
  {
   "cell_type": "code",
   "execution_count": 388,
   "metadata": {
    "collapsed": false
   },
   "outputs": [
    {
     "name": "stdout",
     "output_type": "stream",
     "text": [
      "Accuracy: 0.915 \n",
      "\n",
      "Classification Report\n",
      "             precision    recall  f1-score   support\n",
      "\n",
      "          B       0.93      0.93      0.93       111\n",
      "          M       0.90      0.90      0.90        77\n",
      "\n",
      "avg / total       0.91      0.91      0.91       188\n",
      "\n",
      "\n",
      "Confusion Matrix\n",
      "[[103   8]\n",
      " [  8  69]] \n",
      "\n"
     ]
    }
   ],
   "source": [
    "dt = tree.DecisionTreeClassifier(criterion='entropy',max_depth = 3,min_samples_split =1,min_samples_leaf=7,)\n",
    "dt.fit(X_train_fs,y_train)\n",
    "measure_performance(X_test_fs,y_test,dt)"
   ]
  },
  {
   "cell_type": "markdown",
   "metadata": {},
   "source": [
    "### MODEL 2: Support Vector Machine"
   ]
  },
  {
   "cell_type": "code",
   "execution_count": 389,
   "metadata": {
    "collapsed": true
   },
   "outputs": [],
   "source": [
    "from sklearn.pipeline import Pipeline\n",
    "from sklearn.preprocessing import StandardScaler\n",
    "from sklearn.svm import LinearSVC"
   ]
  },
  {
   "cell_type": "code",
   "execution_count": 390,
   "metadata": {
    "collapsed": true
   },
   "outputs": [],
   "source": [
    "svm_clf = Pipeline(((\"scaler\",StandardScaler()),(\"linear_svc\",LinearSVC(C=1,loss='hinge')),))"
   ]
  },
  {
   "cell_type": "code",
   "execution_count": 391,
   "metadata": {
    "collapsed": false
   },
   "outputs": [
    {
     "data": {
      "text/plain": [
       "Pipeline(steps=(('scaler', StandardScaler(copy=True, with_mean=True, with_std=True)), ('linear_svc', LinearSVC(C=1, class_weight=None, dual=True, fit_intercept=True,\n",
       "     intercept_scaling=1, loss='hinge', max_iter=1000, multi_class='ovr',\n",
       "     penalty='l2', random_state=None, tol=0.0001, verbose=0))))"
      ]
     },
     "execution_count": 391,
     "metadata": {},
     "output_type": "execute_result"
    }
   ],
   "source": [
    "svm_clf.fit(X_train,y_train)"
   ]
  },
  {
   "cell_type": "code",
   "execution_count": 397,
   "metadata": {
    "collapsed": false
   },
   "outputs": [
    {
     "name": "stdout",
     "output_type": "stream",
     "text": [
      "Accuracy: 0.990 \n",
      "\n",
      "Classification Report\n",
      "             precision    recall  f1-score   support\n",
      "\n",
      "          B       0.98      1.00      0.99       245\n",
      "          M       1.00      0.97      0.99       136\n",
      "\n",
      "avg / total       0.99      0.99      0.99       381\n",
      "\n",
      "\n",
      "Confusion Matrix\n",
      "[[245   0]\n",
      " [  4 132]] \n",
      "\n"
     ]
    }
   ],
   "source": [
    "# performance on training\n",
    "measure_performance(X_train,y_train,svm_clf)"
   ]
  },
  {
   "cell_type": "code",
   "execution_count": 398,
   "metadata": {
    "collapsed": false
   },
   "outputs": [
    {
     "name": "stdout",
     "output_type": "stream",
     "text": [
      "Accuracy: 0.984 \n",
      "\n",
      "Classification Report\n",
      "             precision    recall  f1-score   support\n",
      "\n",
      "          B       0.98      0.99      0.99       112\n",
      "          M       0.99      0.97      0.98        76\n",
      "\n",
      "avg / total       0.98      0.98      0.98       188\n",
      "\n",
      "\n",
      "Confusion Matrix\n",
      "[[111   1]\n",
      " [  2  74]] \n",
      "\n"
     ]
    }
   ],
   "source": [
    "# performance on testing\n",
    "measure_performance(X_test,y_test,svm_clf)"
   ]
  },
  {
   "cell_type": "code",
   "execution_count": 399,
   "metadata": {
    "collapsed": false
   },
   "outputs": [
    {
     "data": {
      "text/plain": [
       "{'linear_svc': LinearSVC(C=1, class_weight=None, dual=True, fit_intercept=True,\n",
       "      intercept_scaling=1, loss='hinge', max_iter=1000, multi_class='ovr',\n",
       "      penalty='l2', random_state=None, tol=0.0001, verbose=0),\n",
       " 'scaler': StandardScaler(copy=True, with_mean=True, with_std=True)}"
      ]
     },
     "execution_count": 399,
     "metadata": {},
     "output_type": "execute_result"
    }
   ],
   "source": [
    "svm_clf.named_steps"
   ]
  },
  {
   "cell_type": "markdown",
   "metadata": {},
   "source": [
    "### Explanation"
   ]
  },
  {
   "cell_type": "markdown",
   "metadata": {},
   "source": [
    "**To Technical Audiences: Explain the limitations of your analysis and identify possible further steps you could take.**"
   ]
  },
  {
   "cell_type": "markdown",
   "metadata": {},
   "source": [
    "Only two classifier models were explored. An ensemble approach would be worth evaluating, such as randomForest or Adaboost. In the decision tree, a more robust parameter evaluation should take place. Dimension reduction should take place to reduce the feature space. PCA will produce new components that capture a majority of the variance in the data.\n",
    "\n",
    "In the support vector machine, a weight should be given to the malignant cases, as the cost of a false negative far outweighs the cost of a false positive. Kernel methods should be investigated.\n",
    "\n",
    "In both cases, the results should be validated with 10-Fold Cross validation. The smaller dataset should be prone to sampling error."
   ]
  },
  {
   "cell_type": "markdown",
   "metadata": {},
   "source": [
    "**To Non-Technical Audiences:**"
   ]
  },
  {
   "cell_type": "markdown",
   "metadata": {},
   "source": [
    "**Write a short summary of your analysis, explaining how your model works and how it performs.**\n",
    "The analysis begins with exploring the data. The data contains information about breast cancer cells. The goal of the analysis is to identify cases that are \"malignant\" or \"benign\" based on the measurements.\n",
    "\n",
    "After verifying the data was complete and usable, the objective shifted to identifying important measurements in determining malignant and benign cases. The analysis statistically measured the importance of each measurement in relation the to target variable and found three meaurements to be most important: perimeter_mean, perimeter_sd_error, and fractal_dimension_mean.\n",
    "\n",
    "These features were used in a Decision tree to make predictions. Decision trees learn rules for separating the cases based on values from the data. The decision tree achieved 91.5% accuracy on test data.\n",
    "\n",
    "The next model is a support vector machine. This model finds the best \"line\" or hyperplane that separates the classes. To do this the data must be transformed so that the scale of the features does not affect the results. A cost function, called the \"hinge\", is optimized with a technique called gradient decent. This contributes to the speed and accuracy of the model. The SVM achieved 98.4% accuracy on testing."
   ]
  },
  {
   "cell_type": "markdown",
   "metadata": {},
   "source": [
    "**Briefly explain the factors that contributed to malignant vs benign tumor identification.**\n",
    "The factors that contributed to malignant and benign tumor identification were a clean and complete dataset, the three most significant features (perimeter_mean, perimeter_sd_error, and fractal_dimension_mean), and the proper use of classification algorithms with optimization strategies. In this case, predicting malignant and benign tumors was made much easier due to the good data. It is often the case that a simple algorithm with good data will out perform a complex model with bad data."
   ]
  },
  {
   "cell_type": "markdown",
   "metadata": {},
   "source": [
    "## Part 2: Code Debugging"
   ]
  },
  {
   "cell_type": "markdown",
   "metadata": {},
   "source": [
    "** Student Sample 1 **"
   ]
  },
  {
   "cell_type": "code",
   "execution_count": null,
   "metadata": {
    "collapsed": true
   },
   "outputs": [],
   "source": [
    "#!/usr/bin/env python\n",
    "\n",
    "import pandas as pd\n",
    "import numpy as np\n",
    "from sklearn import LinearRegression # from sklearn import linear_model\n",
    "from sklearn.cross_validation import cross_val_score\n",
    "\n",
    "# Load data\n",
    "d = pd.read_csv('../data/train.csv') # In general, you'll want to name this something more descriptive, like \"employeeData\"\n",
    "\n",
    "\n",
    "\n",
    "\n",
    "# Setup data for prediction\n",
    "x1 = data.SalaryNormalized  # When you read in the data, you called it \"d\". Use that in place of 'Data'\n",
    "x2 = pd.get_dummies(data.ContractType) # correct!\n",
    "\n",
    "# Setup model\n",
    "model = LinearRegression()\n",
    "\n",
    "# Evaluate model\n",
    "from sklearn.cross_validation import cross_val_score\n",
    "from sklearn.cross_validation import train_test_split\n",
    "scores = cross_val_score(model, x2, x1, cv=1, scoring='mean_absolute_error')\n",
    "print(scores.mean())\n"
   ]
  },
  {
   "cell_type": "code",
   "execution_count": null,
   "metadata": {
    "collapsed": true
   },
   "outputs": [],
   "source": [
    "cd C:\\Users\\Carleton\\Desktop\\GeneralAssembly\\CodeChallenge"
   ]
  },
  {
   "cell_type": "code",
   "execution_count": null,
   "metadata": {
    "collapsed": true
   },
   "outputs": [],
   "source": [
    "# Feedback:\n",
    "\n",
    "import numpy as np\n",
    "import pandas as pd\n",
    "from sklearn import linear_model\n",
    "\n",
    "# cd C:\\Users\\Carleton\\Desktop\\GeneralAssembly\\CodeChallenge - put this line in a cell by itself.\n",
    "\n",
    "part2Data = pd.read_csv('filename.csv') # 'filename' is the name of the folder. Now that the cd is set, you don't need to add the\n",
    "                                        # full path of the file. The computer searches the files within the cd folder\n",
    "\n",
    "    \n",
    "# first, look at the data. This can be done with the head() method in pandas\n",
    "part2Data.head()\n",
    "\n",
    "# then use groupby() to evaluate the features\n",
    "part2Data.groupby(\"ContractTime\").mean()\n",
    "\n",
    "# extract column headers\n",
    "col_names = part2Data.columns.values\n",
    "\n",
    "# create dummies for all categorical features\n",
    "new_data = pd.get_dummies(part2Data[col_names[1:]]) # excluding the id column. Indexing is crucial"
   ]
  },
  {
   "cell_type": "markdown",
   "metadata": {},
   "source": [
    "Feedback:\n",
    "\n",
    "I think what you first need to master is how to navigate documentation. It can be daunting at first, but once you learn how the documenation is organized, it is extremely helpful.\n",
    "\n",
    "Most of what you need now is help with manipulating data. I wouldn't worry about the models just yet, because the results will be poor if the data is bad. A good resource that helped me when I was starting was \"PYTHON FOR DATA ANALYSIS\" by WEs McKinney. He goes into the details of Numpy and Pandas. I think it will be helpful.\n",
    "\n",
    "I think you conceptually know the process: read data, preprocess, decide which features and models, the adjust accordingly. You will also need a training and test set to validate your results.\n",
    "\n",
    "Remember to first try to visualize the data first. It always helps me to use the .head() methond with pandas. From there you can use .describe() to look at numeric data and .groupby to aggregate the categorical variables. This is a big step. Keep at it!"
   ]
  },
  {
   "cell_type": "markdown",
   "metadata": {},
   "source": [
    "** Student Sample 2**"
   ]
  },
  {
   "cell_type": "code",
   "execution_count": null,
   "metadata": {
    "collapsed": true
   },
   "outputs": [],
   "source": [
    "#!/usr/bin/env python\n",
    "\n",
    "import pandas as pd\n",
    "import numpy as np\n",
    "from sklearn.linear_model import LinearRegression\n",
    "from sklearn.cross_validation import cross_val_score\n",
    "\n",
    "# Load data\n",
    "data = pd.read_csv('../data/train.csv')\n",
    "\n",
    "\n",
    "# Setup data for prediction\n",
    "y = data.SalaryNormalized\n",
    "X = pd.get_dummies(data.ContractType)\n",
    "\n",
    "# Setup model\n",
    "model = LinearRegression()\n",
    "\n",
    "# Evaluate model\n",
    "scores = cross_val_score(model, X, y, cv=5, scoring='mean_absolute_error')\n",
    "print(scores.mean())"
   ]
  },
  {
   "cell_type": "markdown",
   "metadata": {},
   "source": [
    "Feedback:\n",
    "\n",
    "Your style is very clean, keep that up. I find it easier to visualize the data first before jumping into preprocessing. Try using pd.data.describe() and .head() methods. Remember, here are the steps:\n",
    "\n",
    "1. Understand the data\n",
    "2. Clean and preprocess\n",
    "    - create dummy variables for categorical variables\n",
    "    - deal with missing values\n",
    "    - identify outliers\n",
    "    - normalize numeric values\n",
    "    -create training and testing sets\n",
    "3. feature selection/dimensionality reduction\n",
    "4. model building\n",
    "5. validation\n",
    "\n",
    "Once you have a model, also consider what those scores mean. What do the weights tell you?"
   ]
  },
  {
   "cell_type": "code",
   "execution_count": null,
   "metadata": {
    "collapsed": true
   },
   "outputs": [],
   "source": []
  }
 ],
 "metadata": {
  "anaconda-cloud": {},
  "kernelspec": {
   "display_name": "Python [Root]",
   "language": "python",
   "name": "Python [Root]"
  },
  "language_info": {
   "codemirror_mode": {
    "name": "ipython",
    "version": 2
   },
   "file_extension": ".py",
   "mimetype": "text/x-python",
   "name": "python",
   "nbconvert_exporter": "python",
   "pygments_lexer": "ipython2",
   "version": "2.7.12"
  }
 },
 "nbformat": 4,
 "nbformat_minor": 0
}
